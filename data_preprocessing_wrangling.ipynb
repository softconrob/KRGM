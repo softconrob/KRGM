{
  "nbformat": 4,
  "nbformat_minor": 0,
  "metadata": {
    "colab": {
      "provenance": [],
      "authorship_tag": "ABX9TyNibm77GB/iU7iFq20M1amP",
      "include_colab_link": true
    },
    "kernelspec": {
      "name": "python3",
      "display_name": "Python 3"
    },
    "language_info": {
      "name": "python"
    }
  },
  "cells": [
    {
      "cell_type": "markdown",
      "metadata": {
        "id": "view-in-github",
        "colab_type": "text"
      },
      "source": [
        "<a href=\"https://colab.research.google.com/github/softconrob/KRGM/blob/main/data_preprocessing_wrangling.ipynb\" target=\"_parent\"><img src=\"https://colab.research.google.com/assets/colab-badge.svg\" alt=\"Open In Colab\"/></a>"
      ]
    },
    {
      "cell_type": "code",
      "source": [
        "import pandas as pd"
      ],
      "metadata": {
        "id": "19hK7yDDlpIZ"
      },
      "execution_count": null,
      "outputs": []
    },
    {
      "cell_type": "code",
      "execution_count": null,
      "metadata": {
        "id": "DhUttYNRj-gG",
        "colab": {
          "base_uri": "https://localhost:8080/"
        },
        "outputId": "db41fd1b-5abb-46ae-f862-3e03b6dc2664"
      },
      "outputs": [
        {
          "output_type": "stream",
          "name": "stderr",
          "text": [
            "<ipython-input-3-58c2b88cac07>:5: DtypeWarning: Columns (25,108) have mixed types. Specify dtype option on import or set low_memory=False.\n",
            "  players_df = pd.read_csv(path_to_players)\n"
          ]
        }
      ],
      "source": [
        "path_to_players = 'players_22.csv'\n",
        "path_to_female_players = 'female_players_22.csv'\n",
        "\n",
        "# Read the CSVs into pandas DataFrames\n",
        "players_df = pd.read_csv(path_to_players)\n",
        "female_players_df = pd.read_csv(path_to_female_players)\n"
      ]
    },
    {
      "cell_type": "code",
      "source": [
        "merged_df = pd.concat([players_df, female_players_df], ignore_index=True)\n"
      ],
      "metadata": {
        "id": "e2s61t5mmxBk"
      },
      "execution_count": null,
      "outputs": []
    },
    {
      "cell_type": "code",
      "source": [
        "# Select columns of interest\n",
        "selected_columns = merged_df[['short_name', 'overall', 'age', 'club_name', 'player_positions', 'shooting', 'physic', 'dribbling', 'passing', 'pace']]\n",
        "\n",
        "# Display summary statistics\n",
        "summary = selected_columns.describe()\n",
        "print(summary)\n"
      ],
      "metadata": {
        "colab": {
          "base_uri": "https://localhost:8080/"
        },
        "id": "0u5fxDQ1m2Tk",
        "outputId": "edc4eb07-8e43-4839-ebf9-e2812f37b8f9"
      },
      "execution_count": null,
      "outputs": [
        {
          "output_type": "stream",
          "name": "stdout",
          "text": [
            "            overall           age      shooting        physic     dribbling  \\\n",
            "count  19630.000000  19630.000000  17450.000000  17450.000000  17450.000000   \n",
            "mean      65.990117     25.246510     52.525960     64.864126     62.736848   \n",
            "std        7.027620      4.744188     14.177713      9.795504      9.731703   \n",
            "min       47.000000     16.000000     18.000000     29.000000     27.000000   \n",
            "25%       62.000000     21.000000     42.000000     59.000000     57.000000   \n",
            "50%       66.000000     25.000000     55.000000     66.000000     64.000000   \n",
            "75%       71.000000     29.000000     63.000000     72.000000     69.000000   \n",
            "max       93.000000     54.000000     94.000000     90.000000     95.000000   \n",
            "\n",
            "            passing          pace  \n",
            "count  17450.000000  17450.000000  \n",
            "mean      57.506017     68.333639  \n",
            "std       10.160323     10.924783  \n",
            "min       25.000000     28.000000  \n",
            "25%       51.000000     62.000000  \n",
            "50%       58.000000     69.000000  \n",
            "75%       64.000000     76.000000  \n",
            "max       93.000000     97.000000  \n"
          ]
        }
      ]
    },
    {
      "cell_type": "code",
      "source": [
        "missing_values = selected_columns.isnull().sum()\n",
        "print(\"Missing values for selected attributes:\")\n",
        "print(missing_values)\n"
      ],
      "metadata": {
        "colab": {
          "base_uri": "https://localhost:8080/"
        },
        "id": "3d5ulDh7m5CE",
        "outputId": "7620e30a-9b00-4331-8b3a-0f715382f684"
      },
      "execution_count": null,
      "outputs": [
        {
          "output_type": "stream",
          "name": "stdout",
          "text": [
            "Missing values for selected attributes:\n",
            "short_name             0\n",
            "overall                0\n",
            "age                    0\n",
            "club_name            452\n",
            "player_positions       0\n",
            "shooting            2180\n",
            "physic              2180\n",
            "dribbling           2180\n",
            "passing             2180\n",
            "pace                2180\n",
            "dtype: int64\n"
          ]
        }
      ]
    },
    {
      "cell_type": "code",
      "source": [
        "duplicate_rows = selected_columns.duplicated().sum()\n",
        "print(f\"Number of duplicate rows: {duplicate_rows}\")\n"
      ],
      "metadata": {
        "colab": {
          "base_uri": "https://localhost:8080/"
        },
        "id": "nUKE2mscm8Rg",
        "outputId": "203cb2a4-ba57-43dc-ab82-ce44b555feac"
      },
      "execution_count": null,
      "outputs": [
        {
          "output_type": "stream",
          "name": "stdout",
          "text": [
            "Number of duplicate rows: 0\n"
          ]
        }
      ]
    },
    {
      "cell_type": "code",
      "source": [
        "unique_values_column_a = selected_columns['age'].nunique()\n",
        "print(f\"Number of unique values in column_a: {unique_values_column_a}\")\n"
      ],
      "metadata": {
        "colab": {
          "base_uri": "https://localhost:8080/"
        },
        "id": "JwBcU8Icm-kj",
        "outputId": "1bffb9a4-ee9d-4f99-9e98-3ead8f73e02d"
      },
      "execution_count": null,
      "outputs": [
        {
          "output_type": "stream",
          "name": "stdout",
          "text": [
            "Number of unique values in column_a: 29\n"
          ]
        }
      ]
    }
  ]
}